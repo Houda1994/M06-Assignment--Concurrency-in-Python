{
 "cells": [
  {
   "cell_type": "code",
   "execution_count": 1,
   "id": "0c28ee92",
   "metadata": {},
   "outputs": [
    {
     "data": {
      "text/plain": [
       "'Current date has been written to today.txt.'"
      ]
     },
     "execution_count": 1,
     "metadata": {},
     "output_type": "execute_result"
    }
   ],
   "source": [
    "#13.1\n",
    "from datetime import datetime\n",
    "\n",
    "# Get the current date as a string\n",
    "current_date = datetime.now().strftime(\"%Y-%m-%d\")\n",
    "\n",
    "# Write the date to a file\n",
    "with open(\"today.txt\", \"w\") as file:\n",
    "    file.write(current_date)\n",
    "\n",
    "# Confirm the file was written successfully\n",
    "\"Current date has been written to today.txt.\"\n"
   ]
  },
  {
   "cell_type": "code",
   "execution_count": 4,
   "id": "085ae83e",
   "metadata": {},
   "outputs": [
    {
     "data": {
      "text/plain": [
       "'2024-12-03'"
      ]
     },
     "execution_count": 4,
     "metadata": {},
     "output_type": "execute_result"
    }
   ],
   "source": [
    "#13.2\n",
    "# Read the content of the file into a string\n",
    "with open(\"today.txt\", \"r\") as file:\n",
    "    today_string = file.read()\n",
    "    \n",
    "# Output the content\n",
    "today_string\n",
    "\n"
   ]
  },
  {
   "cell_type": "code",
   "execution_count": 5,
   "id": "3a5a0e92",
   "metadata": {},
   "outputs": [
    {
     "data": {
      "text/plain": [
       "datetime.datetime(2024, 12, 3, 0, 0)"
      ]
     },
     "execution_count": 5,
     "metadata": {},
     "output_type": "execute_result"
    }
   ],
   "source": [
    "#13.3\n",
    "# Parse the date string into a datetime object\n",
    "parsed_date = datetime.strptime(today_string, \"%Y-%m-%d\")\n",
    "\n",
    "# Output the parsed date\n",
    "parsed_date\n"
   ]
  },
  {
   "cell_type": "code",
   "execution_count": 7,
   "id": "6fe3ac99",
   "metadata": {},
   "outputs": [],
   "source": [
    "#15.1\n",
    "import multiprocessing\n",
    "import random\n",
    "import time\n",
    "from datetime import datetime\n",
    "\n",
    "# Function for the processes to execute\n",
    "def process_task(process_id):\n",
    "    wait_time = random.uniform(0, 1)  # Generate a random wait time between 0 and 1 second\n",
    "    time.sleep(wait_time)  # Wait for the random amount of time\n",
    "    print(f\"Process {process_id} - Current Time: {datetime.now().strftime('%Y-%m-%d %H:%M:%S')}\")\n",
    "\n",
    "# Create three separate processes\n",
    "processes = [multiprocessing.Process(target=process_task, args=(i,)) for i in range(1, 4)]\n",
    "\n",
    "# Start all processes\n",
    "for process in processes:\n",
    "    process.start()\n",
    "\n",
    "# Wait for all processes to finish\n",
    "for process in processes:\n",
    "    process.join()\n"
   ]
  },
  {
   "cell_type": "code",
   "execution_count": null,
   "id": "90df7617",
   "metadata": {},
   "outputs": [],
   "source": []
  },
  {
   "cell_type": "code",
   "execution_count": null,
   "id": "fa85cf51",
   "metadata": {},
   "outputs": [],
   "source": []
  }
 ],
 "metadata": {
  "kernelspec": {
   "display_name": "Python 3 (ipykernel)",
   "language": "python",
   "name": "python3"
  },
  "language_info": {
   "codemirror_mode": {
    "name": "ipython",
    "version": 3
   },
   "file_extension": ".py",
   "mimetype": "text/x-python",
   "name": "python",
   "nbconvert_exporter": "python",
   "pygments_lexer": "ipython3",
   "version": "3.11.3"
  }
 },
 "nbformat": 4,
 "nbformat_minor": 5
}
